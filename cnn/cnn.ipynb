{
 "cells": [
  {
   "cell_type": "markdown",
   "metadata": {},
   "source": [
    "# Music Genre Classification"
   ]
  },
  {
   "cell_type": "markdown",
   "metadata": {},
   "source": [
    "## Importing libraries"
   ]
  },
  {
   "cell_type": "code",
   "execution_count": 42,
   "metadata": {},
   "outputs": [],
   "source": [
    "import tensorflow as tf\n",
    "from keras.preprocessing.image import ImageDataGenerator\n",
    "import pickle"
   ]
  },
  {
   "cell_type": "markdown",
   "metadata": {},
   "source": [
    "## Data preprocessing"
   ]
  },
  {
   "cell_type": "markdown",
   "metadata": {},
   "source": [
    "### Preprocessing the training and validation set"
   ]
  },
  {
   "cell_type": "code",
   "execution_count": 44,
   "metadata": {},
   "outputs": [
    {
     "name": "stdout",
     "output_type": "stream",
     "text": [
      "Found 850 images belonging to 10 classes.\n",
      "Found 149 images belonging to 10 classes.\n"
     ]
    }
   ],
   "source": [
    "\"\"\" Use the Image Data Generator class to rescale all values in the image to values between 0-1 \"\"\"\n",
    "train_datagen = ImageDataGenerator(\n",
    "    rescale=1./255,\n",
    "    validation_split=0.15\n",
    ")\n",
    "\n",
    "training_set = train_datagen.flow_from_directory(\n",
    "    'Data/images_original',\n",
    "    batch_size=10,\n",
    "    subset='training'\n",
    ") \n",
    "\n",
    "validation_set = train_datagen.flow_from_directory(\n",
    "    'Data/images_original',\n",
    "    batch_size=10,\n",
    "    subset='validation'\n",
    ") "
   ]
  },
  {
   "cell_type": "markdown",
   "metadata": {},
   "source": [
    "## Building the CNN"
   ]
  },
  {
   "cell_type": "markdown",
   "metadata": {},
   "source": [
    "### Initialise the CNN"
   ]
  },
  {
   "cell_type": "code",
   "execution_count": 51,
   "metadata": {},
   "outputs": [],
   "source": [
    "cnn = tf.keras.models.Sequential()"
   ]
  },
  {
   "cell_type": "markdown",
   "metadata": {},
   "source": [
    "### Building the model architecture"
   ]
  },
  {
   "cell_type": "code",
   "execution_count": 52,
   "metadata": {},
   "outputs": [],
   "source": [
    "# Add first convolution layer with 32 filters\n",
    "cnn.add(tf.keras.layers.Conv2D(filters=32, kernel_size=3, activation='relu', input_shape=(256,256,3)))\n",
    "\n",
    "# Add first pooling layer\n",
    "cnn.add(tf.keras.layers.MaxPool2D(pool_size=(2,2), strides=2, padding='valid'))\n",
    "\n",
    "# Add second convolution layer\n",
    "cnn.add(tf.keras.layers.Conv2D(filters=32, kernel_size=3 ,activation='relu'))\n",
    "\n",
    "# Add second pooling layer\n",
    "cnn.add(tf.keras.layers.MaxPool2D(pool_size=(2,2), strides=2, padding='valid'))\n"
   ]
  },
  {
   "cell_type": "markdown",
   "metadata": {},
   "source": [
    "## Flattening"
   ]
  },
  {
   "cell_type": "code",
   "execution_count": 46,
   "metadata": {},
   "outputs": [],
   "source": [
    "cnn.add(tf.keras.layers.Flatten())"
   ]
  },
  {
   "cell_type": "markdown",
   "metadata": {},
   "source": [
    "## Full connection"
   ]
  },
  {
   "cell_type": "code",
   "execution_count": 47,
   "metadata": {},
   "outputs": [],
   "source": [
    "cnn.add(tf.keras.layers.Dense(units=128, activation='relu'))\n",
    "cnn.add(tf.keras.layers.Dense(units=64, activation='relu'))\n",
    "cnn.add(tf.keras.layers.Dense(units=32, activation='relu'))"
   ]
  },
  {
   "cell_type": "markdown",
   "metadata": {},
   "source": [
    "## Output layer"
   ]
  },
  {
   "cell_type": "code",
   "execution_count": 48,
   "metadata": {},
   "outputs": [],
   "source": [
    "cnn.add(tf.keras.layers.Dense(units=10, activation='sigmoid'))"
   ]
  },
  {
   "cell_type": "markdown",
   "metadata": {},
   "source": [
    "## Compiling"
   ]
  },
  {
   "cell_type": "code",
   "execution_count": 49,
   "metadata": {},
   "outputs": [],
   "source": [
    "cnn.compile(optimizer='adam', loss='binary_crossentropy', metrics=['accuracy'])"
   ]
  },
  {
   "cell_type": "markdown",
   "metadata": {},
   "source": [
    "## Training"
   ]
  },
  {
   "cell_type": "code",
   "execution_count": 50,
   "metadata": {},
   "outputs": [
    {
     "name": "stdout",
     "output_type": "stream",
     "text": [
      "Epoch 1/10\n",
      "85/85 [==============================] - 48s 549ms/step - loss: 1.7365 - accuracy: 0.1035 - val_loss: 0.8799 - val_accuracy: 0.1007\n",
      "Epoch 2/10\n",
      "85/85 [==============================] - 45s 534ms/step - loss: 0.4602 - accuracy: 0.1459 - val_loss: 0.4083 - val_accuracy: 0.1007\n",
      "Epoch 3/10\n",
      "85/85 [==============================] - 45s 532ms/step - loss: 0.3631 - accuracy: 0.1694 - val_loss: 0.3361 - val_accuracy: 0.2013\n",
      "Epoch 4/10\n",
      "85/85 [==============================] - 47s 547ms/step - loss: 0.3277 - accuracy: 0.1800 - val_loss: 0.3173 - val_accuracy: 0.2148\n",
      "Epoch 5/10\n",
      "85/85 [==============================] - 46s 536ms/step - loss: 0.3027 - accuracy: 0.2176 - val_loss: 0.3563 - val_accuracy: 0.1342\n",
      "Epoch 6/10\n",
      "85/85 [==============================] - 45s 535ms/step - loss: 0.2975 - accuracy: 0.2435 - val_loss: 0.3099 - val_accuracy: 0.1812\n",
      "Epoch 7/10\n",
      "85/85 [==============================] - 47s 550ms/step - loss: 0.2926 - accuracy: 0.2506 - val_loss: 0.3299 - val_accuracy: 0.1342\n",
      "Epoch 8/10\n",
      "85/85 [==============================] - 46s 537ms/step - loss: 0.2811 - accuracy: 0.2859 - val_loss: 0.3753 - val_accuracy: 0.1007\n",
      "Epoch 9/10\n",
      "85/85 [==============================] - 46s 545ms/step - loss: 0.2866 - accuracy: 0.2647 - val_loss: 0.3221 - val_accuracy: 0.1611\n",
      "Epoch 10/10\n",
      "85/85 [==============================] - 46s 544ms/step - loss: 0.2798 - accuracy: 0.3129 - val_loss: 0.3115 - val_accuracy: 0.1879\n"
     ]
    },
    {
     "data": {
      "text/plain": [
       "<keras.callbacks.History at 0x1f98de289a0>"
      ]
     },
     "execution_count": 50,
     "metadata": {},
     "output_type": "execute_result"
    }
   ],
   "source": [
    "cnn.fit(x=training_set, validation_data=validation_set, epochs=10)"
   ]
  }
 ],
 "metadata": {
  "interpreter": {
   "hash": "b4bfb2147e30251451edfd7a25dba16ec7e4cf7218c80103817826237b649b2c"
  },
  "kernelspec": {
   "display_name": "Python 3.9.9 64-bit (windows store)",
   "language": "python",
   "name": "python3"
  },
  "language_info": {
   "codemirror_mode": {
    "name": "ipython",
    "version": 3
   },
   "file_extension": ".py",
   "mimetype": "text/x-python",
   "name": "python",
   "nbconvert_exporter": "python",
   "pygments_lexer": "ipython3",
   "version": "3.9.12"
  },
  "orig_nbformat": 4
 },
 "nbformat": 4,
 "nbformat_minor": 2
}
