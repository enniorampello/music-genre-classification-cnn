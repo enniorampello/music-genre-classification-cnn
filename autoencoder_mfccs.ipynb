{
 "cells": [
  {
   "cell_type": "code",
   "execution_count": 7,
   "metadata": {},
   "outputs": [],
   "source": [
    "import numpy as np\n",
    "import pandas as pd\n",
    "\n",
    "import keras\n",
    "import tensorflow as tf\n",
    "\n",
    "from keras import layers\n",
    "\n",
    "dataset = pd.read_pickle(\"DATA_diz.pkl\")\n"
   ]
  },
  {
   "cell_type": "code",
   "execution_count": 2,
   "metadata": {},
   "outputs": [
    {
     "data": {
      "text/plain": [
       "dict_keys(['song_id', 'song_timeSeries', 'MFCCs', 'Mel_spectrograms', 'sampling_rate', 'label'])"
      ]
     },
     "execution_count": 2,
     "metadata": {},
     "output_type": "execute_result"
    }
   ],
   "source": [
    "dataset.keys()"
   ]
  },
  {
   "cell_type": "code",
   "execution_count": 3,
   "metadata": {},
   "outputs": [],
   "source": [
    "genre_dict = {\n",
    "    0 : 'jazz',\n",
    "    1 : 'rock',\n",
    "    2 : 'hiphop',\n",
    "    3 : \"metal\",\n",
    "    4 : \"pop\",\n",
    "    5 : \"disco\",\n",
    "    6 : \"blues\",\n",
    "    7 : \"classical\",\n",
    "    8 : \"country\",\n",
    "    9 : \"reggae\",\n",
    "}"
   ]
  },
  {
   "cell_type": "code",
   "execution_count": 4,
   "metadata": {},
   "outputs": [
    {
     "data": {
      "text/html": [
       "<div>\n",
       "<style scoped>\n",
       "    .dataframe tbody tr th:only-of-type {\n",
       "        vertical-align: middle;\n",
       "    }\n",
       "\n",
       "    .dataframe tbody tr th {\n",
       "        vertical-align: top;\n",
       "    }\n",
       "\n",
       "    .dataframe thead th {\n",
       "        text-align: right;\n",
       "    }\n",
       "</style>\n",
       "<table border=\"1\" class=\"dataframe\">\n",
       "  <thead>\n",
       "    <tr style=\"text-align: right;\">\n",
       "      <th></th>\n",
       "      <th>song_id</th>\n",
       "      <th>song_timeSeries</th>\n",
       "      <th>MFCCs</th>\n",
       "      <th>Mel_spectrograms</th>\n",
       "      <th>sampling_rate</th>\n",
       "      <th>label</th>\n",
       "    </tr>\n",
       "  </thead>\n",
       "  <tbody>\n",
       "    <tr>\n",
       "      <th>0</th>\n",
       "      <td>jazz.00000_10_15</td>\n",
       "      <td>[-0.011962891, -0.005706787, -0.00390625, -0.0...</td>\n",
       "      <td>[[[-312.6806, -311.4205, -321.67444, -308.2039...</td>\n",
       "      <td>[[[0.024068143, 0.026770458, 0.031402346, 0.07...</td>\n",
       "      <td>22050</td>\n",
       "      <td>jazz</td>\n",
       "    </tr>\n",
       "    <tr>\n",
       "      <th>1</th>\n",
       "      <td>jazz.00000_15_20</td>\n",
       "      <td>[0.007904053, 0.015686035, 0.009796143, 0.0094...</td>\n",
       "      <td>[[[-226.86893, -167.50664, -140.55206, -128.56...</td>\n",
       "      <td>[[[0.010349594, 0.023792297, 0.031287283, 0.04...</td>\n",
       "      <td>22050</td>\n",
       "      <td>jazz</td>\n",
       "    </tr>\n",
       "    <tr>\n",
       "      <th>2</th>\n",
       "      <td>jazz.00000_20_25</td>\n",
       "      <td>[0.050720215, 0.045684814, 0.044433594, 0.0443...</td>\n",
       "      <td>[[[-215.35652, -197.37381, -204.02322, -212.86...</td>\n",
       "      <td>[[[0.0783003, 0.08831336, 0.07720997, 0.071271...</td>\n",
       "      <td>22050</td>\n",
       "      <td>jazz</td>\n",
       "    </tr>\n",
       "  </tbody>\n",
       "</table>\n",
       "</div>"
      ],
      "text/plain": [
       "            song_id                                    song_timeSeries  \\\n",
       "0  jazz.00000_10_15  [-0.011962891, -0.005706787, -0.00390625, -0.0...   \n",
       "1  jazz.00000_15_20  [0.007904053, 0.015686035, 0.009796143, 0.0094...   \n",
       "2  jazz.00000_20_25  [0.050720215, 0.045684814, 0.044433594, 0.0443...   \n",
       "\n",
       "                                               MFCCs  \\\n",
       "0  [[[-312.6806, -311.4205, -321.67444, -308.2039...   \n",
       "1  [[[-226.86893, -167.50664, -140.55206, -128.56...   \n",
       "2  [[[-215.35652, -197.37381, -204.02322, -212.86...   \n",
       "\n",
       "                                    Mel_spectrograms  sampling_rate label  \n",
       "0  [[[0.024068143, 0.026770458, 0.031402346, 0.07...          22050  jazz  \n",
       "1  [[[0.010349594, 0.023792297, 0.031287283, 0.04...          22050  jazz  \n",
       "2  [[[0.0783003, 0.08831336, 0.07720997, 0.071271...          22050  jazz  "
      ]
     },
     "execution_count": 4,
     "metadata": {},
     "output_type": "execute_result"
    }
   ],
   "source": [
    "df = pd.DataFrame(dataset)\n",
    "df.head(3)"
   ]
  },
  {
   "cell_type": "markdown",
   "metadata": {},
   "source": [
    "### Selelct all the songs of a genre in order to generate music of that genre\n",
    "Only keep the MFCCs column and use that as input of the variational autoencoder"
   ]
  },
  {
   "cell_type": "code",
   "execution_count": 5,
   "metadata": {},
   "outputs": [
    {
     "data": {
      "text/plain": [
       "(1, 13, 216)"
      ]
     },
     "execution_count": 5,
     "metadata": {},
     "output_type": "execute_result"
    }
   ],
   "source": [
    "genre = 0 # jazz\n",
    "\n",
    "df = df.loc[df['label'] == genre_dict[genre]]\n",
    "df = df[['MFCCs']]\n",
    "df.iloc[0,0].shape"
   ]
  },
  {
   "cell_type": "markdown",
   "metadata": {},
   "source": [
    "### Convert the dataset into a Numpy array"
   ]
  },
  {
   "cell_type": "code",
   "execution_count": 6,
   "metadata": {},
   "outputs": [
    {
     "name": "stdout",
     "output_type": "stream",
     "text": [
      "(593,)\n",
      "(1, 13, 216)\n"
     ]
    }
   ],
   "source": [
    "df = np.array(df['MFCCs'])\n",
    "\n",
    "print(df.shape)\n",
    "print(df[0].shape)"
   ]
  },
  {
   "cell_type": "markdown",
   "metadata": {},
   "source": [
    "### Define the Encoder Network"
   ]
  },
  {
   "cell_type": "code",
   "execution_count": 8,
   "metadata": {},
   "outputs": [],
   "source": [
    "def encoder(input_encoder):\n",
    "  \n",
    "    inputs = keras.Input(shape=input_encoder, name='input_layer')\n",
    "\n",
    "    # Block-1\n",
    "    x = layers.Conv2D(32, kernel_size=3, strides= 1, padding='same', name='conv_1')(inputs)\n",
    "    x = layers.BatchNormalization(name='bn_1')(x)\n",
    "    x = layers.LeakyReLU(name='lrelu_1')(x)\n",
    "    \n",
    "    # Block-2\n",
    "    x = layers.Conv2D(64, kernel_size=3, strides= 2, padding='same', name='conv_2')(x)\n",
    "    x = layers.BatchNormalization(name='bn_2')(x)\n",
    "    x = layers.LeakyReLU(name='lrelu_2')(x)\n",
    "    \n",
    "    # Block-3\n",
    "    x = layers.Conv2D(64, 3, 2, padding='same', name='conv_3')(x)\n",
    "    x = layers.BatchNormalization(name='bn_3')(x)\n",
    "    x = layers.LeakyReLU(name='lrelu_3')(x)\n",
    "  \n",
    "    # Block-4\n",
    "    x = layers.Conv2D(64, 3, 1, padding='same', name='conv_4')(x)\n",
    "    x = layers.BatchNormalization(name='bn_4')(x)\n",
    "    x = layers.LeakyReLU(name='lrelu_4')(x)\n",
    "   \n",
    "    # Final Block\n",
    "    flatten = layers.Flatten()(x)\n",
    "    mean = layers.Dense(2, name='mean')(flatten)\n",
    "    log_var = layers.Dense(2, name='log_var')(flatten)\n",
    "    z = Sampling()([mean, log_var])\n",
    "\n",
    "    encoder = tf.keras.Model(inputs, (mean, log_var, z), name=\"encoder\")\n",
    "    \n",
    "    return encoder"
   ]
  },
  {
   "cell_type": "markdown",
   "metadata": {},
   "source": [
    "### Define a Sampling layer for the latent variables"
   ]
  },
  {
   "cell_type": "code",
   "execution_count": 9,
   "metadata": {},
   "outputs": [],
   "source": [
    "class Sampling(layers.Layer):\n",
    "    \"\"\"Uses (z_mean, z_log_var) to sample z, the vector encoding a digit.\"\"\"\n",
    "\n",
    "    def call(self, inputs):\n",
    "        z_mean, z_log_var = inputs\n",
    "        batch = tf.shape(z_mean)[0]\n",
    "        dim = tf.shape(z_mean)[1]\n",
    "        epsilon = tf.keras.backend.random_normal(shape=(batch, dim))\n",
    "        return z_mean + tf.exp(0.5 * z_log_var) * epsilon"
   ]
  },
  {
   "cell_type": "markdown",
   "metadata": {},
   "source": [
    "### Define the Decoder"
   ]
  },
  {
   "cell_type": "code",
   "execution_count": null,
   "metadata": {},
   "outputs": [],
   "source": [
    "def decoder(input_decoder):\n",
    "    \n",
    "    inputs = keras.Input(shape=input_decoder, name='input_layer')\n",
    "    x = layers.Dense(3136, name='dense_1')(inputs)\n",
    "    x = layers.Reshape((7, 7, 64), name='Reshape_Layer')(x)\n",
    "   \n",
    "    # Block-1\n",
    "    x = layers.Conv2DTranspose(64, 3, strides= 1, padding='same',name='conv_transpose_1')(x)\n",
    "    x = layers.BatchNormalization(name='bn_1')(x)\n",
    "    x = layers.LeakyReLU(name='lrelu_1')(x)\n",
    "  \n",
    "    # Block-2\n",
    "    x = layers.Conv2DTranspose(64, 3, strides= 2, padding='same', name='conv_transpose_2')(x)\n",
    "    x = layers.BatchNormalization(name='bn_2')(x)\n",
    "    x = layers.LeakyReLU(name='lrelu_2')(x)\n",
    "    \n",
    "    # Block-3\n",
    "    x = layers.Conv2DTranspose(32, 3, 2, padding='same', name='conv_transpose_3')(x)\n",
    "    x = layers.BatchNormalization(name='bn_3')(x)\n",
    "    x = layers.LeakyReLU(name='lrelu_3')(x)\n",
    "    \n",
    "    # Block-4\n",
    "    outputs = layers.Conv2DTranspose(1, 3, 1,padding='same', activation='sigmoid', name='conv_transpose_4')(x)\n",
    "    model = tf.keras.Model(inputs, outputs, name=\"Decoder\")\n",
    "    return model"
   ]
  }
 ],
 "metadata": {
  "interpreter": {
   "hash": "64d8bb0f2c65a156e9debafc22507a868f54a7de7ab936ef521ff139aa2f8d9d"
  },
  "kernelspec": {
   "display_name": "Python 3.8.10 ('ml')",
   "language": "python",
   "name": "python3"
  },
  "language_info": {
   "codemirror_mode": {
    "name": "ipython",
    "version": 3
   },
   "file_extension": ".py",
   "mimetype": "text/x-python",
   "name": "python",
   "nbconvert_exporter": "python",
   "pygments_lexer": "ipython3",
   "version": "3.8.10"
  },
  "orig_nbformat": 4
 },
 "nbformat": 4,
 "nbformat_minor": 2
}
